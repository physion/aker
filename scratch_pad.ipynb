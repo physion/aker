{
 "metadata": {
  "name": "",
  "signature": "sha256:37a3d2667a5aebf09bc158f8e4c8cc4155e47a5096561754f73e362b91d810b3"
 },
 "nbformat": 3,
 "nbformat_minor": 0,
 "worksheets": [
  {
   "cells": [
    {
     "cell_type": "code",
     "collapsed": false,
     "input": [
      "import cloudant\n",
      "import sys\n",
      "from threading import Thread, Event\n",
      "from getpass import getpass"
     ],
     "language": "python",
     "metadata": {},
     "outputs": [],
     "prompt_number": 1
    },
    {
     "cell_type": "code",
     "collapsed": false,
     "input": [
      "account = cloudant.Account('ovation-io-dev', async=False)"
     ],
     "language": "python",
     "metadata": {},
     "outputs": [],
     "prompt_number": 2
    },
    {
     "cell_type": "code",
     "collapsed": false,
     "input": [
      "r = account.login('ovation-io-dev', getpass())\n",
      "r.raise_for_status()"
     ],
     "language": "python",
     "metadata": {},
     "outputs": [],
     "prompt_number": 3
    },
    {
     "cell_type": "code",
     "collapsed": false,
     "input": [
      "evt = Event()\n",
      "def watch_db():\n",
      "    r = account.get('_db_updates', params={'feed':'continuous'}, stream=True)\n",
      "    n = 0\n",
      "    for update in r.iter_lines():\n",
      "        print(update.decode('utf-8'))\n",
      "        evt.set()\n",
      "        n = n+1\n",
      "        if n > 10:\n",
      "            break\n"
     ],
     "language": "python",
     "metadata": {},
     "outputs": [],
     "prompt_number": 16
    },
    {
     "cell_type": "code",
     "collapsed": false,
     "input": [
      "watcher = Thread(target=watch_db)"
     ],
     "language": "python",
     "metadata": {},
     "outputs": [],
     "prompt_number": 17
    },
    {
     "cell_type": "code",
     "collapsed": false,
     "input": [
      "watcher.start()"
     ],
     "language": "python",
     "metadata": {},
     "outputs": [
      {
       "output_type": "stream",
       "stream": "stdout",
       "text": [
        "{\"dbname\":\"team-0d7bc0f0-02d2-0132-ac52-20c9d048d683\",\"type\":\"created\",\"seq\":\"26999-g1AAAAZYeJyt0zlIA0EUxvExEQR7wU6wtAjZ7CYhlTZe8T5eLTPZQLLEjZiksLK3t_KI9_F6a3t7a3s7j3jr-CWN2IgPss0flv3tNyxsSSnVW4j6qt83ufJqfsg3bmylsFYplsN43InlSuWar8NqLMxXS3g2opXpZj4PtPqtEn-qpmHTQ7QQFKJGqWJlGbe7Ml7e0076X-8RzWFp0fRZ-4k53dHa0jrnul6q_VuY-TIDzKfNrUhrK51KOPFksv1bmDkzSaI56feHmTeD1r7_fBDH1W4m5bX_kJj5MFnmY-khYU4MEc1IIcysWbL2VQph3kzAfCiFMEemRjQlhTDTZt3aZymEeQk71T7zhpBCHUAhE0SbcjwJhTSsrcvxExRSx_8vx3tQyDjRhRxnoZAHay_l-BEK2WG-kuNdKGSU6FqOx6CQO2tv5PgeCtlivpXjbShkmKghxyNQiMUFHHwDZ4clEg\"}\n",
        "{\"dbname\":\"team-7901f480-05f5-0132-cef3-22000a7bab2e\",\"type\":\"updated\",\"seq\":\"27001-g1AAAAaLeJy11DlIA0EUBuDRCIK9YCdYWoTdzCYhlTZe8T5eLTPZSLLEjZiksLK3t_KI9zG9tb29tb2dR7x1_JMm2IgP4jY_LPvN_3gsUxBC9OQivujzdaa4mh30tYyu5NZK-WLoOG40UyhWfBWWo2G2XMC37UroLmPOAyV-qtivqm6M7iaaD3IRLUS-tIzXnSkv6yk3-adzWHVoWtC91n6iTrU1upTKSOklWt-Fmi_db8xpvSvS6EomYq4Tj7e-CzVnOk40y90_zJwesPa9uRBXKplKeK0fEjUfOm3MMXdImBNNRNNcCDOjF6195UKYNx0Yc9hci-NKueT_w3-CmiNdIZrkDgkzpdetfeZCmJewQ-wbs8GkUAdQiHGiTT6egELUrK3y8RMUooorg4_3oBBjRBd8nIZCPFh7ycePUIgdY674eBcKMUJ0zcejUIg7a2_4-B4KsWXMLR9vQyGGiGp8PAyFsHiAg2_dRTSt\"}\n",
        "{\"dbname\":\"team-69968ad0-0ec0-0132-cefa-22000a7bab2e\",\"type\":\"created\",\"seq\":\"30178-g1AAAAa-eJy11ClMA0EUBuCBkpDgSXAkSESz2922VIHhKvfxNJnZbVM2pSXQChQej-Io9zEejcdjMHgcR7lh-FtEgyG8ZFnzJ5v59n952d28EKIjF_FFl6-84lKmz1dOdDG3sjxfLFiWHfXyxbIvC6VoIVPK42yzFKpN69NAip8q9quqGa3aiWaCXEQJUb5awO3WlJtxpZ3803NYdWiaVZ3GfKBONtW7pPQcx02E34WaT9Wt9XGtK1LvSiZithWPh9-FmhMVJ5ri7h9mWvUa89ZYiO1IJ5Vwwx8SNe8qrfUhd0iYI0VEE1wIM6nmjHnhQphXFWi931iLZTtO1v-H9wQ1B6pMNMYdEmZcrRrzVBuy-fvDUVm_x4uFPyRqngstYlfrNeaYUHtQiBGidT4ehUJUjanw8SMUooK_DB_vQCGGic74OA2FuDfmnI8foBBbWl_w8TYUYpDoko-HoBC3xlzz8R0UYkPrGz7ehEL0E1X5eAAKYXABB19o3kUm\"}\n",
        "{\"dbname\":\"team-367b4d10-0eae-0132-cef8-22000a7bab2e\",\"type\":\"created\",\"seq\":\"30222-g1AAAAa-eJy11CtMw1AUBuDLRkKCJ8GRIBGjXbuNKTC8xvtxNOltt4xmdAQ2gcLjUTzG-3E9Go_HYPA4HuMNl39DLBjCSUrNnzT3639y0rYghGjPRz3R6Um3uJTt86QVW8yvLM8XA8MwY26hWPacoBQLsqUCzkYcIVuVOvUd8VPFf1U1o2Qb0Yyfj0ohylcLuN2StrO2Y6b-9BxWHZpmZYfWH6hzmupdjuNalp0Mvws1n7JLqeNaV3e9K5WMm0YiEX4Xak5kgmiKu3-Yadmr9VtjIablWOmkHf6QqHmXGaUOuUPCHEkimuBCmEk5p_ULF8K8Sl-p_cZaDNOyct4_vCeoOZBlojHukDDjclXrp9qQke8PR-a8Hjce_pCoeQ6axa5Sa8wxofagECNE63w8CoWoal3h40coRAV_GT7egUIME53xcQYKca_1OR8_QCG2lLrg420oxCDRJR8PQSFutb7m4zsoxIZSN3y8CYXoJ6ry8QAUQuMC9r8AV9VFUg\"}\n"
       ]
      },
      {
       "output_type": "stream",
       "stream": "stdout",
       "text": [
        "{\"dbname\":\"team-fa82f5c0-0393-0132-cef0-22000a7bab2e\",\"type\":\"created\",\"seq\":\"30224-g1AAAAa-eJy11ClMA0EUBuCBkpDgSXAkSETpdrctVWC4yn08TWZ225RN2RJoBQqPR3GU-xiPxuMxGDyOo9ww_K1pMISXLGv-ZDPf_i9vN1sQQnTkI57o8pRbXM72e8qOLuVXVxaKQSxmRd1CsezJoBQNsqUCzjZLodq0PvOl-Kniv6qa0aqdaNbPR5QQ5etF3G5NO1lHWqk_PYdVh6Y51WnMJ-pkc71LSte2nWT4Xaj5Ut1an9S6eupdqWTciiUS4Xeh5lQliKa5-4eZUX3GvDcWYtnSTied8IdEzYfKaH3EHRLmWBHRJBfCTKl5Y165EOZN-Vof1NbSVF9LzLLtnPcP3wlqDlWZaJw7JMyEWjPmufHu0irn9brx8IdEzUvQIva0XmeOCbUPhRgl2uDjMShE1ZgKHz9BISr4y_DxLhRihOicjzNQiAdjLvj4EQqxrfUlH-9AIYaIrvh4GApxZ8wNH99DITa1vuXjLSjEAFGVjwehEAYXsP8NYnhFVA\"}\n",
        "{\"dbname\":\"team-935d3560-030c-0132-acc5-20c9d048d683\",\"type\":\"created\",\"seq\":\"30226-g1AAAAa-eJy11CtMw1AUBuDLtoQET4IjQSLGunYbU2B4jffjaNLbbhnN6AhsAoXHo3iM9-N6NB6PweBxPMYbLn-HIBjCSUrNnzT3639y0rYkhGgrRl3R4UqnvJjvdaUZXyguL82V_UTCiDulctW1_Urcz1dKOBuxhWxR6sSzxU-V_FUFRslWommvGJVCVC_ncbs5a-Ut28j86TmsOjTNyHat31FnRxpdtu2YppUOvws1H7JTqaOgq6vRlUknjUQqFX4Xao5limiSu3-YKdmj9ev3QgzTNrNpK_whUfMmc0odcIeEOZRENM6FMBNyVutnLoR5kZ5Se8FamhprSRimWXD_4T1Bzb6sEo1yh4QZkytaPwZDxr4-HFlwu51k-EOi5smPiR2lVpljQu1CIYaJ1vh4BApR17rGxw9QiBr-Mny8DYUYIjrl4xwU4k7rMz6-h0JsKnXOx1tQiAGiCz4ehELcaH3Fx7dQiHWlrvl4AwrRR1Tn434ohMYF7H0CaJJFVg\"}\n",
        "{\"dbname\":\"db-200d4f50-065f-0132-cef4-22000a7bab2e\",\"type\":\"updated\",\"seq\":\"30279-g1AAAAa-eJy11ClMA0EYBeCBNiHBk-BIkIiy2922VIHhKvfxazKz26Y0pSXQChQej-Io9zEejcdjMHgcR7lheFsUhvAnS81LNvvte5nstiiEaM9HfNHpK6-8lO3zlRNbzK8sz5dLlmXHvGK56stSJVbKVoq4t1kK1ar1aUGKnyr-qwqMVm1EM4V8RAlRvVrA5Za0m3WlnfrTc1h1aJpVHcZ8oE5GGl1Seo7jJsPvQs2n6tL6OOjqbnSlknHbSiTC70LNiUoQTXHPH2Za9RrzFoxMNkbajnTSSTf8kah5VxmtD7kjYY4UEU1wIcykmjPmhQthXlVB6_3gWJoax2LZjpPz_-E9Qc2BqhKNcUfCjKtVY56CkdHvD0fl_B4vHv5I1DyXomJX6zXmTKg9KMQI0Tofj0Ih6sbU-PgRClHDvwwf70AhhonO-DgDhbg35pyPH6AQW1pf8PE2FGKQ6JKPh6AQt8Zc8_EdFGJD6xs-3oRC9BPV-XgACmHwAy58AWdPRYs\"}\n",
        "{\"dbname\":\"db-ecf911d0-0393-0132-cef0-22000a7bab2e\",\"type\":\"created\",\"seq\":\"34557-g1AAAAbxeJy11ClMw1AcBvAXBiEBvQRHgkSMdu0uBYZrjJu_wZD31i6jGRsBJlA4BB7FMe7jeTQej8bjOMYNj6-dwhBeUmq-pNlv35eXtiXGWEcx4rAuR-QrS26fI6zYYnF1eb5SNgwzli9Vqg4vr8TK7koJv23iTLRJee5x9lPFf1W-kSJKNO0VI4Kx9dwCbrdmbNfmZupP_6NVh6YZ0anUJ-p4JOjiPG9ZdjL8LtR8iW4pT_2unqArlYybRiIRfhdqzkSCaFL3_GGmRK9S7_7I2WCkaXErk7TDH4maD5GV8lh3JMyJIKJxXQgzIeaUetWFMG_Ck_LQP5ZocCyGaVkF5x-eE9QciSrRqO5ImDGxptSzP7Kl8eKIgpPOx8MfiZqXcjPbl3JDcybUARRihGhTH-egEHWlavr4CQpRw1dGH-9BIYaJLvRxFgrxoNSlPn6EQuxIeaWPd6EQg0TX-ngICnGn1I0-vodCbEl56z-S7Y33Js3TBTf8bx6KtlGE6Ceq648dgEIoXMDeN8sOVSU\"}\n"
       ]
      }
     ],
     "prompt_number": 18
    },
    {
     "cell_type": "code",
     "collapsed": false,
     "input": [
      "evt.wait()\n",
      "print(\"Done\")"
     ],
     "language": "python",
     "metadata": {},
     "outputs": [
      {
       "output_type": "stream",
       "stream": "stdout",
       "text": [
        "{\"dbname\":\"db-f57a8060-e8c5-0130-9c9c-22000aec9fab\",\"type\":\"updated\",\"seq\":\"35814-g1AAAAckeJy1lDdMw0AUhg8CQkKskdiQGBmCHacxwULv5S0s6F7sKEQhQRAGJnaYmSihl9uZ2dmZ2dnoneO3mVgQJxkvv2T58_f7nu-KQojmfMQVrS5nywtel8tObD6_vDhbLlmWHcsWy0uuLFViJa9SxLO1UnCjUqcFKX5S8V8pn1EcJZos5CMsxJozh9sNHQkvIe30n95jpINpilu0_oBORgKXlFnHSaTCd0HzyW1KHfuu9sCVTsVtK5kM3wXNCSeJxk3XH8wEd2r95pecDkrajnQ6UonwS0LzzgNKHZqWBHPERDRqCoIZ4xmtX0xBMK9cUGrfX5ZosCyW7Tg59x_-E2gOeIlo2LQkmBFe0frJL1n_vXE452ay8fBLQvNcqhO7Sq0a1gS1BwoxSLRuDg-BQjxoXTWHH0EhqjhlzOEdUIh-ojNzeAAU4k7rc3P4HhRiS6kLf7Y1wWy9ZDrDcS_02UK0DRGil-jSvGwfKMSN1lfm8C0oxIZS1_6XNn1vtYzM5Lzwj0mINiFCdBM9mJftAYXQuAAXvgCdfGTn\"}\n",
        "{\"dbname\":\"db-387785b0-0394-0132-cef0-22000a7bab2e\",\"type\":\"created\",\"seq\":\"54162-g1AAAAdaeJy1lDtQE1EYhS-GwRkKu8zQMUNpEXZzs8mmwkaB8FAef0PD3H93MyETE0eTgopeayuB8FAht6e2t6e2t0MJT_V6dlPRMN6ZdZszs7Pffuc-G0KIsVomFBMhB63X0ZOQZe5VbfPNRqvpOG4uaLQ6oWq2c82o3cC3D5TgUa17dSXuUvl7qZjRnCVaqdcyLMQ7-RKvH5YLUUG5pX_6j5UOplUeN-Y3dCqTuJQKpCwU03dB84cfa30UuyYTV6mYdx3PS98FzTF7REu28w9mmaeMuY1LriUlXalkuVhIvyQ0v7ii9SfbkmA-MxE9H2yS6V7SM1CBp2SQfk-YXvC6Mde2PcHccF3rw3gys0lJx5WyGv6H3QXNR-4QLdiWBLPIW8ZcxiVHBseNq6Ef5NMvCc1Vc1jsa_3WsiaoA1CIOaL39vA8KETfmK49fAEK0cXdZA_vgULMEp3YwxVQiJ_GfLGHz0EhdrT-Gq_tULK2kVfyOR-lvrYQ7UKEmCY6tS87AwpxZsw3e_gHKMQHrb_HI300OGq-8qtR-pcrRNsQIZ4S9e3LPgOFMHgA1_8C8Bl2AA\"}\n",
        "{\"dbname\":\"team-2f23fc50-0358-0132-ceef-22000a7bab2e\",\"type\":\"created\",\"seq\":\"54165-g1AAAAdaeJy1lDtM21AYha-aqJU6sEXqVomxQxrnxokz0aWEBkpb6L-woPvbjoKVJgjIwNQdZiYeKYUWcndm9u6d2dl4pNAHXI6dqUvVKxkvR7L8-Tv32RJCPGlmAjEasN9ZCl8ELPOLzdXlhU67UHDyfqvTDVR7Jd8OV1r49oES_FjrfqTE31Txn1TMaM4RzUbNDAuxLj_g9aNqKSwpp_Jf_7HSwfSenxpzA53KJC6lfClL5fRd0NzyM60PYtfzxFUpF52C66bvguaQXaJ3tvMPZobHjPkdl5xLSjpSyWq5lH5JaP5wXesvtiXBfGUiejPcJLV-0tNXvqukn35PmN7yvDE_bXuC-cWR1nvxZOaSkgVHykZwD7sLmn3uEr22LQlmmj8acxWXfDg8btwIPL-YfklorttZsav1mmVNUJ9BISaJNuzhKVCIgTE9e_gHKEQPd5M9_AkU4hXRkT1cB4W4MObYHr4EhdjW-lu8ttlkbUO34nExTH1tIdqBCFEj-m5fdgIU4syYE3v4HBRiU-vTeKQjw6PmKa8Rpn-5QrQFEeIl0cC-7DgohMEDOLoD9N52Aw\"}\n",
        "Done"
       ]
      },
      {
       "output_type": "stream",
       "stream": "stdout",
       "text": [
        "\n"
       ]
      }
     ],
     "prompt_number": 19
    },
    {
     "cell_type": "code",
     "collapsed": false,
     "input": [
      "db = account.database('underworld_dev')"
     ],
     "language": "python",
     "metadata": {},
     "outputs": [],
     "prompt_number": 7
    },
    {
     "cell_type": "code",
     "collapsed": false,
     "input": [
      "db"
     ],
     "language": "python",
     "metadata": {},
     "outputs": [
      {
       "metadata": {},
       "output_type": "pyout",
       "prompt_number": 8,
       "text": [
        "<cloudant.database.Database at 0x106c0d630>"
       ]
      }
     ],
     "prompt_number": 8
    },
    {
     "cell_type": "code",
     "collapsed": false,
     "input": [
      "db.get().json()"
     ],
     "language": "python",
     "metadata": {},
     "outputs": [
      {
       "metadata": {},
       "output_type": "pyout",
       "prompt_number": 10,
       "text": [
        "{'purge_seq': 0,\n",
        " 'other': {'data_size': 6810},\n",
        " 'instance_start_time': '0',\n",
        " 'doc_count': 4,\n",
        " 'doc_del_count': 4,\n",
        " 'db_name': 'underworld_dev',\n",
        " 'update_seq': '124602-g1AAAAWPeJyV07lLA0EUx_ExRgR7wU6wTLFExE7Qxivex6tlXjYQh2VXNCms7O2tPOJ9vN46vb212Np5xFufP_-Et8232Q8_ZmAS51xPtT12fTGXs_XKSMwD0Vp1c2M1S4vF_qicZPXYp7UordQS_JvzjrtEroLPWdS_Ee4mWgo-b4Iwy9yr-mNdhPnlgsiFFcJc8iDRghXCLPKw6ldg5_LeZMG-uSRyBtt23zRZsHMmojnr3cLM84rqh_WkMJ8cRE6C7zBBmFOuE81YF2FmeUv1zQph3tO8OxLZNlKoYyhkimgn-IIRT0MhLdWGffkVCmng2djxIRQySXRtxyUo5Fm1accvUMi-yI0dH0Ah40S3djwBhTyq3gXfacRPUMiuyIN9eQ8KGSVq2fEYFKL4gh8KfwNp6Mo',\n",
        " 'compact_running': False,\n",
        " 'disk_size': 3317860,\n",
        " 'disk_format_version': 5}"
       ]
      }
     ],
     "prompt_number": 10
    }
   ],
   "metadata": {}
  }
 ]
}